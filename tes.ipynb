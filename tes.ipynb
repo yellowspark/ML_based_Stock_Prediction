{
 "cells": [
  {
   "cell_type": "code",
   "execution_count": 1,
   "metadata": {},
   "outputs": [
    {
     "name": "stdout",
     "output_type": "stream",
     "text": [
      "The expected amount you will get is: 325498\n"
     ]
    }
   ],
   "source": [
    "amount = float(input(\"Enter the monthly SIP amount: \"))\n",
    "yearlyRate = float(input(\"Enter the yearly rate of return: \"))\n",
    "years = int(input(\"Enter the number of years: \"))\n",
    "monthlyRate = yearlyRate/12/100\n",
    "months = years * 12\n",
    "futureValue = amount * ((((1 + monthlyRate)**(months))-1) * (1 + monthlyRate))/monthlyRate\n",
    "futureValue = round(futureValue)\n",
    "print(\"The expected amount you will get is:\",futureValue)"
   ]
  },
  {
   "cell_type": "code",
   "execution_count": 17,
   "metadata": {},
   "outputs": [],
   "source": [
    "def sip(investment, tenure, interest, amount=0, is_year=True, is_percent=True, show_amount_list=False):\n",
    "    tenure = tenure*12 if is_year else tenure\n",
    "    interest = interest/100 if is_percent else interest\n",
    "    interest /= 12\n",
    "    amount_every_month = []\n",
    "    for month in range(tenure):\n",
    "        amount = (amount + investment)*(1+interest)\n",
    "        amount_every_month.append({\n",
    "            'month':month+1,\n",
    "            'amount':amount,\n",
    "        })\n",
    "    return {'Amount @ Maturity': amount, 'Amount every month': amount_every_month} if show_amount_list else {'Amount @ Maturity': amount} "
   ]
  },
  {
   "cell_type": "code",
   "execution_count": 18,
   "metadata": {},
   "outputs": [],
   "source": [
    "def emi(amount, tenure, interest, is_year=True, is_percent=True):\n",
    "    tenure = tenure*12 if is_year else tenure\n",
    "    interest = interest/100 if is_percent else interest\n",
    "    interest /= 12\n",
    "    emi = (amount*interest*(1+interest)**tenure) / ((1+interest)**tenure-1)\n",
    "    total_payable = emi*tenure\n",
    "    interest_amount = total_payable - amount\n",
    "    return {'EMI': emi, 'Total Repayment Amount': total_payable, 'Interest Amount': interest_amount}\n",
    "\n"
   ]
  },
  {
   "cell_type": "code",
   "execution_count": 19,
   "metadata": {},
   "outputs": [
    {
     "name": "stdout",
     "output_type": "stream",
     "text": [
      "{'EMI': 926.345058970803, 'Total Repayment Amount': 11116.140707649636, 'Interest Amount': 1116.1407076496362}\n"
     ]
    }
   ],
   "source": [
    "EMI = emi(10000, 1, 20)\n",
    "print(EMI)"
   ]
  },
  {
   "cell_type": "code",
   "execution_count": null,
   "metadata": {},
   "outputs": [],
   "source": [
    "SIP_maturity = sip(500, 10, 12,show_amount_list=True)\n",
    "print(SIP_maturity)"
   ]
  },
  {
   "cell_type": "code",
   "execution_count": 22,
   "metadata": {},
   "outputs": [
    {
     "name": "stdout",
     "output_type": "stream",
     "text": [
      "1 505.0 <class 'dict'>\n",
      "2 1015.05 <class 'dict'>\n",
      "3 1530.2005 <class 'dict'>\n",
      "4 2050.502505 <class 'dict'>\n",
      "5 2576.00753005 <class 'dict'>\n",
      "6 3106.7676053504997 <class 'dict'>\n",
      "7 3642.835281404005 <class 'dict'>\n",
      "8 4184.263634218045 <class 'dict'>\n",
      "9 4731.106270560225 <class 'dict'>\n",
      "10 5283.417333265827 <class 'dict'>\n",
      "11 5841.251506598485 <class 'dict'>\n",
      "12 6404.66402166447 <class 'dict'>\n",
      "13 6973.710661881115 <class 'dict'>\n",
      "14 7548.4477684999265 <class 'dict'>\n",
      "15 8128.932246184926 <class 'dict'>\n",
      "16 8715.221568646775 <class 'dict'>\n",
      "17 9307.373784333244 <class 'dict'>\n",
      "18 9905.447522176577 <class 'dict'>\n",
      "19 10509.501997398344 <class 'dict'>\n",
      "20 11119.597017372327 <class 'dict'>\n",
      "21 11735.79298754605 <class 'dict'>\n",
      "22 12358.150917421512 <class 'dict'>\n",
      "23 12986.732426595727 <class 'dict'>\n",
      "24 13621.599750861684 <class 'dict'>\n",
      "25 14262.8157483703 <class 'dict'>\n",
      "26 14910.443905854003 <class 'dict'>\n",
      "27 15564.548344912542 <class 'dict'>\n",
      "28 16225.193828361667 <class 'dict'>\n",
      "29 16892.445766645287 <class 'dict'>\n",
      "30 17566.37022431174 <class 'dict'>\n",
      "31 18247.033926554857 <class 'dict'>\n",
      "32 18934.504265820407 <class 'dict'>\n",
      "33 19628.849308478613 <class 'dict'>\n",
      "34 20330.1378015634 <class 'dict'>\n",
      "35 21038.439179579032 <class 'dict'>\n",
      "36 21753.82357137482 <class 'dict'>\n",
      "37 22476.36180708857 <class 'dict'>\n",
      "38 23206.12542515946 <class 'dict'>\n",
      "39 23943.186679411054 <class 'dict'>\n",
      "40 24687.618546205165 <class 'dict'>\n",
      "41 25439.49473166722 <class 'dict'>\n",
      "42 26198.88967898389 <class 'dict'>\n",
      "43 26965.87857577373 <class 'dict'>\n",
      "44 27740.537361531467 <class 'dict'>\n",
      "45 28522.942735146782 <class 'dict'>\n",
      "46 29313.17216249825 <class 'dict'>\n",
      "47 30111.303884123234 <class 'dict'>\n",
      "48 30917.416922964465 <class 'dict'>\n",
      "49 31731.59109219411 <class 'dict'>\n",
      "50 32553.90700311605 <class 'dict'>\n",
      "51 33384.44607314721 <class 'dict'>\n",
      "52 34223.29053387869 <class 'dict'>\n",
      "53 35070.523439217475 <class 'dict'>\n",
      "54 35926.22867360965 <class 'dict'>\n",
      "55 36790.49096034575 <class 'dict'>\n",
      "56 37663.39586994921 <class 'dict'>\n",
      "57 38545.0298286487 <class 'dict'>\n",
      "58 39435.48012693519 <class 'dict'>\n",
      "59 40334.83492820454 <class 'dict'>\n",
      "60 41243.18327748658 <class 'dict'>\n",
      "61 42160.61511026145 <class 'dict'>\n",
      "62 43087.221261364066 <class 'dict'>\n",
      "63 44023.09347397771 <class 'dict'>\n",
      "64 44968.32440871748 <class 'dict'>\n",
      "65 45923.007652804656 <class 'dict'>\n",
      "66 46887.2377293327 <class 'dict'>\n",
      "67 47861.11010662603 <class 'dict'>\n",
      "68 48844.72120769229 <class 'dict'>\n",
      "69 49838.16841976921 <class 'dict'>\n",
      "70 50841.5501039669 <class 'dict'>\n",
      "71 51854.965605006575 <class 'dict'>\n",
      "72 52878.515261056644 <class 'dict'>\n",
      "73 53912.30041366721 <class 'dict'>\n",
      "74 54956.42341780388 <class 'dict'>\n",
      "75 56010.98765198192 <class 'dict'>\n",
      "76 57076.09752850174 <class 'dict'>\n",
      "77 58151.85850378676 <class 'dict'>\n",
      "78 59238.37708882463 <class 'dict'>\n",
      "79 60335.76085971288 <class 'dict'>\n",
      "80 61444.11846831001 <class 'dict'>\n",
      "81 62563.559652993106 <class 'dict'>\n",
      "82 63694.195249523036 <class 'dict'>\n",
      "83 64836.13720201827 <class 'dict'>\n",
      "84 65989.49857403846 <class 'dict'>\n",
      "85 67154.39355977884 <class 'dict'>\n",
      "86 68330.93749537662 <class 'dict'>\n",
      "87 69519.24687033039 <class 'dict'>\n",
      "88 70719.43933903369 <class 'dict'>\n",
      "89 71931.63373242403 <class 'dict'>\n",
      "90 73155.95006974827 <class 'dict'>\n",
      "91 74392.50957044575 <class 'dict'>\n",
      "92 75641.4346661502 <class 'dict'>\n",
      "93 76902.84901281171 <class 'dict'>\n",
      "94 78176.87750293982 <class 'dict'>\n",
      "95 79463.64627796922 <class 'dict'>\n",
      "96 80763.28274074891 <class 'dict'>\n",
      "97 82075.9155681564 <class 'dict'>\n",
      "98 83401.67472383796 <class 'dict'>\n",
      "99 84740.69147107634 <class 'dict'>\n",
      "100 86093.0983857871 <class 'dict'>\n",
      "101 87459.02936964498 <class 'dict'>\n",
      "102 88838.61966334144 <class 'dict'>\n",
      "103 90232.00585997484 <class 'dict'>\n",
      "104 91639.3259185746 <class 'dict'>\n",
      "105 93060.71917776034 <class 'dict'>\n",
      "106 94496.32636953794 <class 'dict'>\n",
      "107 95946.28963323332 <class 'dict'>\n",
      "108 97410.75252956565 <class 'dict'>\n",
      "109 98889.8600548613 <class 'dict'>\n",
      "110 100383.75865540991 <class 'dict'>\n",
      "111 101892.59624196401 <class 'dict'>\n",
      "112 103416.52220438365 <class 'dict'>\n",
      "113 104955.6874264275 <class 'dict'>\n",
      "114 106510.24430069177 <class 'dict'>\n",
      "115 108080.3467436987 <class 'dict'>\n",
      "116 109666.15021113568 <class 'dict'>\n",
      "117 111267.81171324704 <class 'dict'>\n",
      "118 112885.4898303795 <class 'dict'>\n",
      "119 114519.3447286833 <class 'dict'>\n",
      "120 116169.53817597013 <class 'dict'>\n"
     ]
    }
   ],
   "source": [
    "for i in SIP_maturity['Amount every month']:\n",
    "    print(i['month'],i['amount'], type(i)  )"
   ]
  },
  {
   "cell_type": "code",
   "execution_count": null,
   "metadata": {},
   "outputs": [],
   "source": []
  }
 ],
 "metadata": {
  "interpreter": {
   "hash": "c9450883d3451aee670b44918951f0b621a7ac9844fd47806b375e634e18795f"
  },
  "kernelspec": {
   "display_name": "Python 3.9.5 ('base')",
   "language": "python",
   "name": "python3"
  },
  "language_info": {
   "codemirror_mode": {
    "name": "ipython",
    "version": 3
   },
   "file_extension": ".py",
   "mimetype": "text/x-python",
   "name": "python",
   "nbconvert_exporter": "python",
   "pygments_lexer": "ipython3",
   "version": "3.9.5"
  },
  "orig_nbformat": 4
 },
 "nbformat": 4,
 "nbformat_minor": 2
}
